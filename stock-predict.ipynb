{
 "cells": [
  {
   "cell_type": "code",
   "id": "initial_id",
   "metadata": {
    "collapsed": true,
    "ExecuteTime": {
     "end_time": "2024-07-15T16:33:11.145425Z",
     "start_time": "2024-07-15T16:33:11.137482Z"
    }
   },
   "source": "import yfinance as yf\n",
   "outputs": [],
   "execution_count": 7
  },
  {
   "cell_type": "code",
   "source": "sp500 = yf.Ticker(\"^GSPC\")",
   "metadata": {
    "collapsed": false,
    "ExecuteTime": {
     "end_time": "2024-07-15T16:33:15.869248Z",
     "start_time": "2024-07-15T16:33:15.862871Z"
    }
   },
   "id": "8065621c3af0cf18",
   "outputs": [],
   "execution_count": 8
  },
  {
   "metadata": {},
   "cell_type": "code",
   "outputs": [],
   "execution_count": null,
   "source": "sp500 = sp500.history(period=\"max\")",
   "id": "a0082f24fe4bc006"
  }
 ],
 "metadata": {
  "kernelspec": {
   "display_name": "Python 3",
   "language": "python",
   "name": "python3"
  },
  "language_info": {
   "codemirror_mode": {
    "name": "ipython",
    "version": 2
   },
   "file_extension": ".py",
   "mimetype": "text/x-python",
   "name": "python",
   "nbconvert_exporter": "python",
   "pygments_lexer": "ipython2",
   "version": "2.7.6"
  }
 },
 "nbformat": 4,
 "nbformat_minor": 5
}
